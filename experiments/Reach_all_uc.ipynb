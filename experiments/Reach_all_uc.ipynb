{
 "cells": [
  {
   "cell_type": "code",
   "execution_count": 1,
   "id": "7a156c97-cb06-4b05-81de-4c57a1173a62",
   "metadata": {},
   "outputs": [
    {
     "name": "stderr",
     "output_type": "stream",
     "text": [
      "\u001b[32m\u001b[1m  Activating\u001b[22m\u001b[39m project at `~/Downloads/sc/NoisyReach.jl`\n"
     ]
    },
    {
     "data": {
      "text/plain": [
       "TaskLocalRNG()"
      ]
     },
     "execution_count": 1,
     "metadata": {},
     "output_type": "execute_result"
    }
   ],
   "source": [
    "begin\n",
    "\timport Pkg\n",
    "\tPkg.activate(\"..\")\n",
    "\tPkg.instantiate()\n",
    "\t\n",
    "    push!(LOAD_PATH, \"$(@__DIR__)/../src\")\n",
    "    \n",
    "    using NoisyReach\n",
    "    using Random\n",
    "    using Plots\n",
    "    using Statistics\n",
    "\n",
    "    Random.seed!(123) # Setting the seed\n",
    "end"
   ]
  },
  {
   "cell_type": "code",
   "execution_count": 2,
   "id": "1622ef1c",
   "metadata": {},
   "outputs": [
    {
     "data": {
      "text/plain": [
       "100000"
      ]
     },
     "execution_count": 2,
     "metadata": {},
     "output_type": "execute_result"
    }
   ],
   "source": [
    "sys = benchmarks[:F1]\n",
    "const N = 500\n",
    "\n",
    "const x0 = 1000.0\n",
    "const u0 = 0.0\n",
    "\n",
    "const T = 10\n",
    "const hc = 1e-4\n",
    "const Hc = floor(Int, T / hc)"
   ]
  },
  {
   "cell_type": "code",
   "execution_count": 3,
   "id": "929049ce-5313-4640-b68d-9562ba26cefe",
   "metadata": {},
   "outputs": [
    {
     "data": {
      "text/plain": [
       "500"
      ]
     },
     "execution_count": 3,
     "metadata": {},
     "output_type": "execute_result"
    }
   ],
   "source": [
    "const Dcₑ = 0.005\n",
    "const Dcₔ = 0.015\n",
    "const σₑ  = 0.3\n",
    "const σₔ  = 0.2\n",
    "const μ   = 0.\n",
    "\n",
    "const hd   = 0.02\n",
    "const Hd = floor(Int, T / hd)"
   ]
  },
  {
   "cell_type": "code",
   "execution_count": 4,
   "id": "36781977-1fb4-4d21-87a4-1d4362e68d54",
   "metadata": {},
   "outputs": [
    {
     "data": {
      "text/plain": [
       "([1.4674263761264608e-27, -1.5683352910220794e-27], [5.536680415273446e-28])"
      ]
     },
     "execution_count": 4,
     "metadata": {},
     "output_type": "execute_result"
    }
   ],
   "source": [
    "sys_c, K_c = synthesize(sys, hc)\n",
    "\n",
    "x₀ = fill(x0, size(sys.A, 1))\n",
    "xc, uc = simulate(sys_c, Hc, x₀, K_certain, K_c)\n",
    "xc[end], uc[end]"
   ]
  },
  {
   "cell_type": "code",
   "execution_count": 5,
   "id": "8178ce40",
   "metadata": {},
   "outputs": [
    {
     "ename": "LoadError",
     "evalue": "The number of rows of A (2) and B (3) are not equal",
     "output_type": "error",
     "traceback": [
      "The number of rows of A (2) and B (3) are not equal",
      "",
      "Stacktrace:",
      " [1] state_space_validation(A::Matrix{Float64}, B::Matrix{Float64}, C::Matrix{Float64}, D::Matrix{Float64})",
      "   @ ControlSystemsBase ~/.julia/packages/ControlSystemsBase/GZBgD/src/types/StateSpace.jl:13",
      " [2] ControlSystemsBase.StateSpace(A::Matrix{Float64}, B::Matrix{Float64}, C::Matrix{Float64}, D::Matrix{Float64}, Ts::Float64)",
      "   @ ControlSystemsBase ~/.julia/packages/ControlSystemsBase/GZBgD/src/types/StateSpace.jl:58",
      " [3] ss(::Matrix{Float64}, ::Vararg{Any}; kwargs::@Kwargs{})",
      "   @ ControlSystemsBase ~/.julia/packages/ControlSystemsBase/GZBgD/src/types/StateSpace.jl:144",
      " [4] ss",
      "   @ ~/.julia/packages/ControlSystemsBase/GZBgD/src/types/StateSpace.jl:144 [inlined]",
      " [5] synthesize(sys::ControlSystemsBase.StateSpace{ControlSystemsBase.Continuous, Float64}, h::Float64, Dc::Float64, n::Int64)",
      "   @ NoisyReach ~/Downloads/sc/NoisyReach.jl/src/statespace.jl:94",
      " [6] top-level scope",
      "   @ In[5]:1"
     ]
    }
   ],
   "source": [
    "sys_d, K_d = synthesize(sys, hd, Dcₔ, 3)\n",
    "\n",
    "z₀ = [fill(x0, size(sys.A, 1)); u0]\n",
    "xds, uds = unzip([simulate(sys_d, Hd, z₀, K_uncertain, K_d, σₔ, μ) for _ in 1:N])\n",
    "xds = [[xd_i[1:2] for xd_i in xd] for xd in xds]\n",
    "uds = [[ud_i[1] for ud_i in ud] for ud in uds]\n",
    "xds[1][end], uds[1][end]"
   ]
  },
  {
   "cell_type": "code",
   "execution_count": 6,
   "id": "b9cef640-a272-418c-9706-487982725809",
   "metadata": {},
   "outputs": [
    {
     "ename": "LoadError",
     "evalue": "UndefVarError: `xds` not defined in `Main`\nSuggestion: check for spelling errors or missing imports.",
     "output_type": "error",
     "traceback": [
      "UndefVarError: `xds` not defined in `Main`\nSuggestion: check for spelling errors or missing imports.",
      "",
      "Stacktrace:",
      " [1] (::var\"#2#4\"{Int64})(k::Int64)",
      "   @ Main ./none:0",
      " [2] iterate",
      "   @ ./generator.jl:48 [inlined]",
      " [3] collect(itr::Base.Generator{UnitRange{Int64}, var\"#2#4\"{Int64}})",
      "   @ Base ./array.jl:780",
      " [4] #1",
      "   @ ./boot.jl:0 [inlined]",
      " [5] iterate",
      "   @ ./generator.jl:48 [inlined]",
      " [6] collect(itr::Base.Generator{UnitRange{Int64}, var\"#1#3\"})",
      "   @ Base ./array.jl:780",
      " [7] top-level scope",
      "   @ In[6]:2"
     ]
    }
   ],
   "source": [
    "#rel_dev_trajs = [[(1 .- (xds[i][k] ./ xc[1+(k-1)*floor(Int,hd/hc)])) for k in 1:Hd] for i in 1:N]\n",
    "dev_trajs = [[(xc[1+(k-1)*floor(Int,hd/hc)] .- xds[i][k]) for k in 1:Hd] for i in 1:N]\n",
    "dev₁_trajs = [[dev[1] for dev in dev_traj] for dev_traj in dev_trajs]\n",
    "uds₁ = [[ud_i for ud_i in ud] for ud in uds]\n",
    "\n",
    "mean_rmse_dev₁ = mean([std(dev₁_traj) for dev₁_traj in dev₁_trajs])\n",
    "max_rmse_dev₁ = maximum([std(dev₁_traj) for dev₁_traj in dev₁_trajs])\n",
    "mean_mean_dev₁ = mean([mean(abs.(dev₁_traj)) for dev₁_traj in dev₁_trajs])\n",
    "max_max_dev₁ = maximum([maximum(abs.(dev₁_traj)) for dev₁_traj in dev₁_trajs])\n",
    "\n",
    "mean_mean_u₁ = mean([mean(abs.(ud₁)) for ud₁ in uds₁])\n",
    "max_max_u₁ = maximum([maximum(abs.(ud₁)) for ud₁ in uds₁])\n",
    "\n",
    "@info \"\"\"-----BEGIN RESULTS-----\n",
    "mean_rmse_dev₁\tmax_rmse_dev₁\tmean_mean_u₁\tmax_max_u₁\n",
    "$mean_rmse_dev₁\t$max_rmse_dev₁\t$mean_mean_u₁\t$max_max_u₁\n",
    "-----END RESULTS-----\"\"\""
   ]
  },
  {
   "cell_type": "code",
   "execution_count": 7,
   "id": "19ff5ed0-fb56-4261-b681-0b569b8ba783",
   "metadata": {},
   "outputs": [
    {
     "ename": "LoadError",
     "evalue": "UndefVarError: `xds` not defined in `Main`\nSuggestion: check for spelling errors or missing imports.",
     "output_type": "error",
     "traceback": [
      "UndefVarError: `xds` not defined in `Main`\nSuggestion: check for spelling errors or missing imports.",
      "",
      "Stacktrace:",
      " [1] (::var\"#5#6\")(i::Int64)",
      "   @ Main ./none:0",
      " [2] iterate",
      "   @ ./generator.jl:48 [inlined]",
      " [3] collect(itr::Base.Generator{UnitRange{Int64}, var\"#5#6\"})",
      "   @ Base ./array.jl:780",
      " [4] top-level scope",
      "   @ In[7]:1"
     ]
    }
   ],
   "source": [
    "convergences = [first_convergence([0.0, 0.0], xds[i], threshold=1e-2) for i in 1:N]\n",
    "median(convergences)"
   ]
  },
  {
   "cell_type": "code",
   "execution_count": 8,
   "id": "a83c3412-f9e5-404d-b2a5-c6630af1330d",
   "metadata": {},
   "outputs": [
    {
     "ename": "LoadError",
     "evalue": "UndefVarError: `xds` not defined in `Main`\nSuggestion: check for spelling errors or missing imports.",
     "output_type": "error",
     "traceback": [
      "UndefVarError: `xds` not defined in `Main`\nSuggestion: check for spelling errors or missing imports.",
      "",
      "Stacktrace:",
      " [1] top-level scope",
      "   @ In[8]:1"
     ]
    }
   ],
   "source": [
    "plot_trajectories(xds[8], xc, hd, hc, T)"
   ]
  },
  {
   "cell_type": "code",
   "execution_count": 9,
   "id": "827ae103-cb93-460b-a7c2-d0a5b88055e2",
   "metadata": {},
   "outputs": [
    {
     "ename": "LoadError",
     "evalue": "UndefVarError: `dev₁_trajs` not defined in `Main`\nSuggestion: check for spelling errors or missing imports.",
     "output_type": "error",
     "traceback": [
      "UndefVarError: `dev₁_trajs` not defined in `Main`\nSuggestion: check for spelling errors or missing imports.",
      "",
      "Stacktrace:",
      " [1] top-level scope",
      "   @ In[9]:1"
     ]
    }
   ],
   "source": [
    "dev₁s = [dev₁ for dev₁ in dev₁_trajs[8]]\n",
    "plot(1:Hd, dev₁s, label=\"\\$\\\\Delta x_1\\$\", lw=2)"
   ]
  },
  {
   "cell_type": "code",
   "execution_count": 10,
   "id": "f64707b6-0376-4bdc-b7cc-3638b2e24a79",
   "metadata": {},
   "outputs": [],
   "source": [
    "#println(\"Trajectories that failed to converge:\\n\", [i for i in 1:N if isnothing(first_convergence([0.0, 0.0], xds[i], threshold=1e-2))])"
   ]
  },
  {
   "cell_type": "code",
   "execution_count": 11,
   "id": "c77dd051-b738-49da-8919-ed40749a6a05",
   "metadata": {},
   "outputs": [],
   "source": [
    "#show(stdout, \"text/plain\", uds[5])"
   ]
  },
  {
   "cell_type": "code",
   "execution_count": 12,
   "id": "31aadade-fab2-4f86-90ff-fff98582a103",
   "metadata": {},
   "outputs": [
    {
     "ename": "LoadError",
     "evalue": "UndefVarError: `xds` not defined in `Main`\nSuggestion: check for spelling errors or missing imports.",
     "output_type": "error",
     "traceback": [
      "UndefVarError: `xds` not defined in `Main`\nSuggestion: check for spelling errors or missing imports.",
      "",
      "Stacktrace:",
      " [1] top-level scope",
      "   @ In[12]:1"
     ]
    }
   ],
   "source": [
    "maximum(xd -> maximum(xd -> abs(xd[1]), xd), xds)"
   ]
  },
  {
   "cell_type": "code",
   "execution_count": 13,
   "id": "77739011-89fd-45d3-abe7-9c5c95dc85c4",
   "metadata": {},
   "outputs": [
    {
     "ename": "LoadError",
     "evalue": "UndefVarError: `uds` not defined in `Main`\nSuggestion: check for spelling errors or missing imports.",
     "output_type": "error",
     "traceback": [
      "UndefVarError: `uds` not defined in `Main`\nSuggestion: check for spelling errors or missing imports.",
      "",
      "Stacktrace:",
      " [1] top-level scope",
      "   @ In[13]:1"
     ]
    }
   ],
   "source": [
    "maximum(ud -> maximum(ud -> abs(ud[1]), ud), uds)"
   ]
  },
  {
   "cell_type": "code",
   "execution_count": 14,
   "id": "f1bf42ae-c814-4ee4-a263-d99609d20248",
   "metadata": {},
   "outputs": [
    {
     "data": {
      "text/plain": [
       "1089.0862401887914"
      ]
     },
     "execution_count": 14,
     "metadata": {},
     "output_type": "execute_result"
    }
   ],
   "source": [
    "maximum(xc -> abs(xc[1]), xc)"
   ]
  },
  {
   "cell_type": "code",
   "execution_count": 15,
   "id": "6b3c66d0-f728-47bf-a736-2c91bd743d59",
   "metadata": {},
   "outputs": [
    {
     "data": {
      "text/plain": [
       "2285.9891619269965"
      ]
     },
     "execution_count": 15,
     "metadata": {},
     "output_type": "execute_result"
    }
   ],
   "source": [
    "maximum(u -> abs(u[1]), uc)"
   ]
  }
 ],
 "metadata": {
  "kernelspec": {
   "display_name": "Julia 1.11.0-rc3",
   "language": "julia",
   "name": "julia-1.11"
  },
  "language_info": {
   "file_extension": ".jl",
   "mimetype": "application/julia",
   "name": "julia",
   "version": "1.11.0"
  }
 },
 "nbformat": 4,
 "nbformat_minor": 5
}
