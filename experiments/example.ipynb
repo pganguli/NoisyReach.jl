{
 "cells": [
  {
   "cell_type": "code",
   "execution_count": 2,
   "id": "7a156c97-cb06-4b05-81de-4c57a1173a62",
   "metadata": {},
   "outputs": [
    {
     "name": "stderr",
     "output_type": "stream",
     "text": [
      "\u001b[32m\u001b[1m  Activating\u001b[22m\u001b[39m project at `c:\\My Project\\NoisyReach.jl`\n"
     ]
    }
   ],
   "source": [
    "begin\n",
    "\timport Pkg\n",
    "\tPkg.activate(\"..\")\n",
    "\tPkg.instantiate()\n",
    "\t\n",
    "    push!(LOAD_PATH, \"$(@__DIR__)/../src\")\n",
    "    using Test\n",
    "\tusing NoisyReach\n",
    "    using QuadGK\n",
    "    using ControlSystemsBase\n",
    "    using LinearAlgebra\n",
    "    using ReachabilityAnalysis\n",
    "end"
   ]
  },
  {
   "cell_type": "code",
   "execution_count": 3,
   "id": "e754cf27-eefc-4b21-ac63-5942250272ff",
   "metadata": {},
   "outputs": [
    {
     "data": {
      "text/plain": [
       "0.01"
      ]
     },
     "metadata": {},
     "output_type": "display_data"
    }
   ],
   "source": [
    "const Ts = 0.01 # Sampling period"
   ]
  },
  {
   "cell_type": "code",
   "execution_count": 4,
   "id": "c4f21e2f-40cf-487f-a2b1-93debc853125",
   "metadata": {},
   "outputs": [
    {
     "data": {
      "text/plain": [
       "0.005"
      ]
     },
     "metadata": {},
     "output_type": "display_data"
    }
   ],
   "source": [
    "const Dc = 0.005 # sensor-to-actuator delay"
   ]
  },
  {
   "cell_type": "code",
   "execution_count": 5,
   "id": "c4cd3ac4-06f4-48a2-a11f-c1b2ef9a1a54",
   "metadata": {},
   "outputs": [
    {
     "data": {
      "text/plain": [
       "StateSpace{Continuous, Int64}\n",
       "A = \n",
       "  0   1\n",
       " -1  -1\n",
       "B = \n",
       " 0\n",
       " 1\n",
       "C = \n",
       " 1  0\n",
       "D = \n",
       " 0\n",
       "\n",
       "Continuous-time state-space model"
      ]
     },
     "metadata": {},
     "output_type": "display_data"
    }
   ],
   "source": [
    "# Example from page 33 of lecture 17 (Ts = 0.01, Dc = 0.005)\n",
    "# Expected:\n",
    "# ϕ = [1 0.001; -0.001 0.999]\n",
    "# Γ₁ = [0; 0.0005]\n",
    "# Γ₀ = [0; 0.0005]\n",
    "#\n",
    "# ϕ_aug = [1 0.001 0; -0.001 0.999 0.0005; 0 0 0]\n",
    "# Γ_aug = [0 0.0005 1]\n",
    "# C_aug = [1 0 0]\n",
    "sys = let\n",
    "    A = [0 1; -1 -1]\n",
    "    B = [0; 1]\n",
    "    C = [1 0]\n",
    "    D = 0\n",
    "    ss(A, B, C, D)\n",
    "end"
   ]
  },
  {
   "cell_type": "code",
   "execution_count": 6,
   "id": "46e5ef64-b995-49ac-84f2-3f56a1d359fc",
   "metadata": {},
   "outputs": [
    {
     "ename": "UndefVarError",
     "evalue": "UndefVarError: `matrix_integral` not defined",
     "output_type": "error",
     "traceback": [
      "UndefVarError: `matrix_integral` not defined\n",
      "\n",
      "Stacktrace:\n",
      " [1] top-level scope\n",
      "   @ c:\\My Project\\NoisyReach.jl\\experiments\\jl_notebook_cell_df34fa98e69747e1a8f8a730347b8e2f_W4sZmlsZQ==.jl:3"
     ]
    }
   ],
   "source": [
    "sys_aug_ = let\n",
    "    ϕ = ℯ^(Ts * sys.A)\n",
    "    Γ₁ = matrix_integral(A, B, Dc, Ts)\n",
    "    Γ₀ = matrix_integral(A, B, 0.0, Ts - Dc)\n",
    "    ϕ_aug = [ϕ Γ₁; 0 0 0]\n",
    "    Γ_aug = [Γ₀; I]\n",
    "    C_aug = [sys.C 0]\n",
    "    ss(ϕ_aug, Γ_aug, C_aug, sys.D, Ts)\n",
    "end"
   ]
  },
  {
   "cell_type": "code",
   "execution_count": 7,
   "id": "0bd95d15-4514-4e84-ad92-08c218e0248c",
   "metadata": {},
   "outputs": [
    {
     "data": {
      "text/plain": [
       "StateSpace{Discrete{Float64}, Float64}\n",
       "A = \n",
       "  0.9999501666658346    0.009950000415833335   4.4296297035802466e-5\n",
       " -0.009950000415833335  0.9900001662500014     0.008844444814074077\n",
       "  0.0                   0.0                   -0.3333333333333333\n",
       "B = \n",
       " 1.6611111388425926e-5\n",
       " 0.0033166668052777787\n",
       " 1.0\n",
       "C = \n",
       " 1.0  0.0  0.0\n",
       "D = \n",
       " 0.0\n",
       "\n",
       "Sample Time: 0.01 (seconds)\n",
       "Discrete-time state-space model"
      ]
     },
     "metadata": {},
     "output_type": "display_data"
    }
   ],
   "source": [
    "#sys_aug = c2d(sys, Ts) * delay(Dc, Ts)\n",
    "sys_aug = c2d(sys, Ts) * thiran(Dc, Ts)"
   ]
  },
  {
   "cell_type": "code",
   "execution_count": 8,
   "id": "11cc56e4-3e3f-43d6-b6ad-1bce0ab4509a",
   "metadata": {},
   "outputs": [
    {
     "data": {
      "text/plain": [
       "1×3 Matrix{Float64}:\n",
       " 0.239321  0.418528  -0.167879"
      ]
     },
     "metadata": {},
     "output_type": "display_data"
    }
   ],
   "source": [
    "K = lqr(ControlSystemsBase.Discrete, sys_aug.A, sys_aug.B, I, I)"
   ]
  },
  {
   "cell_type": "code",
   "execution_count": 9,
   "id": "3daedec6",
   "metadata": {},
   "outputs": [
    {
     "data": {
      "text/plain": [
       "matrix_integral (generic function with 1 method)"
      ]
     },
     "metadata": {},
     "output_type": "display_data"
    }
   ],
   "source": [
    "function matrix_integral(A::AbstractMatrix, B::AbstractMatrix, a::Float64, b::Float64)\n",
    "    result, _ = quadgk(s ->  exp(A * s) * B, a, b)\n",
    "    return result\n",
    "end"
   ]
  },
  {
   "cell_type": "code",
   "execution_count": 10,
   "id": "1622ef1c",
   "metadata": {},
   "outputs": [
    {
     "data": {
      "text/plain": [
       "2-element Vector{Int64}:\n",
       " 0\n",
       " 0"
      ]
     },
     "metadata": {},
     "output_type": "display_data"
    }
   ],
   "source": [
    "sys = benchmarks[:F1]\n",
    "const period = 0.02\n",
    "const Dc1 = 0.005\n",
    "const Dc2 = 0.015\n",
    "const errors = [0, 0]"
   ]
  },
  {
   "cell_type": "code",
   "execution_count": 15,
   "id": "8178ce40",
   "metadata": {},
   "outputs": [
    {
     "data": {
      "text/plain": [
       "3×3 Matrix{Float64}:\n",
       " 1.0127    0.149407  0.00336739\n",
       " 0.172671  1.26289   0.122367\n",
       " 0.307036  0.48328   0.0441294"
      ]
     },
     "metadata": {},
     "output_type": "display_data"
    }
   ],
   "source": [
    "sys_aug = let\n",
    "    ϕ = ℯ^(period * sys.A)\n",
    "    Γ2 = matrix_integral(sys.A, sys.B, Dc2, period)\n",
    "    Γ1 = matrix_integral(sys.A, sys.B, Dc1, Dc2)\n",
    "    Γ3 = matrix_integral(sys.A, sys.B, 0.0, Dc1)\n",
    "    ϕ_aug = [ϕ Γ3; 0 0 0]\n",
    "    Γ_aug = [Γ1 Γ2; 0 I]\n",
    "    C_aug = [sys.C 0]\n",
    "    D_aug = [sys.D 0]\n",
    "    ss(ϕ_aug, Γ_aug, C_aug, D_aug, Ts)\n",
    "end\n",
    "K = lqr(ControlSystemsBase.Discrete, sys_aug.A, sys_aug.B, I, I)\n",
    "Φ = sys_aug.A + sys_aug.B * K"
   ]
  },
  {
   "cell_type": "code",
   "execution_count": 27,
   "id": "e5c26cd9",
   "metadata": {},
   "outputs": [
    {
     "data": {
      "text/plain": [
       "0.09956091952339212"
      ]
     },
     "metadata": {},
     "output_type": "display_data"
    }
   ],
   "source": [
    "λ11 = 0.3\n",
    "λ12 = 0.25\n",
    "λ21 = 0.1\n",
    "λ22 = 0.1\n",
    "K_error = [K[1,:][1]*(1+λ11) K[1,:][2]*(1+λ12) K[1,:][3]; K[2,:][1]*(1+λ21) K[2,:][2]*(1+λ22) K[2,:][3]]"
   ]
  },
  {
   "cell_type": "code",
   "execution_count": 13,
   "id": "926daf4c",
   "metadata": {},
   "outputs": [
    {
     "ename": "MethodError",
     "evalue": "MethodError: no method matching Zonotope(::Vector{Float64}, ::Diagonal{Int64, Vector{Int64}})\n\nClosest candidates are:\n  Zonotope(::VN, !Matched::MN) where {N, VN<:AbstractVector{N}, MN<:AbstractMatrix{N}}\n   @ LazySets C:\\Users\\Tingan Zhu\\.julia\\packages\\LazySets\\qUfTe\\src\\Sets\\Zonotope\\Zonotope.jl:94\n  Zonotope(::VN, !Matched::AbstractVector{VN}) where VN<:(AbstractVector)\n   @ LazySets C:\\Users\\Tingan Zhu\\.julia\\packages\\LazySets\\qUfTe\\src\\Sets\\Zonotope\\Zonotope.jl:106\n",
     "output_type": "error",
     "traceback": [
      "MethodError: no method matching Zonotope(::Vector{Float64}, ::Diagonal{Int64, Vector{Int64}})\n",
      "\n",
      "Closest candidates are:\n",
      "  Zonotope(::VN, !Matched::MN) where {N, VN<:AbstractVector{N}, MN<:AbstractMatrix{N}}\n",
      "   @ LazySets C:\\Users\\Tingan Zhu\\.julia\\packages\\LazySets\\qUfTe\\src\\Sets\\Zonotope\\Zonotope.jl:94\n",
      "  Zonotope(::VN, !Matched::AbstractVector{VN}) where VN<:(AbstractVector)\n",
      "   @ LazySets C:\\Users\\Tingan Zhu\\.julia\\packages\\LazySets\\qUfTe\\src\\Sets\\Zonotope\\Zonotope.jl:106\n",
      "\n",
      "\n",
      "Stacktrace:\n",
      " [1] top-level scope\n",
      "   @ c:\\My Project\\NoisyReach.jl\\experiments\\jl_notebook_cell_df34fa98e69747e1a8f8a730347b8e2f_X13sZmlsZQ==.jl:1"
     ]
    }
   ],
   "source": [
    "E = Zonotope(zeros(Float64, 2), Diagonal(errors))\n",
    "W = get_error_bound(sys_aug.B, K, E)\n",
    "x0center = 10.\n",
    "x0size = 1.\n",
    "x0 = Zonotope(x0center * ones(2), x0size * I(2))\n",
    "r = reach(Φ, x0, W, 100)"
   ]
  }
 ],
 "metadata": {
  "kernelspec": {
   "display_name": "Julia 1.10.3",
   "language": "julia",
   "name": "julia-1.10"
  },
  "language_info": {
   "file_extension": ".jl",
   "mimetype": "application/julia",
   "name": "julia",
   "version": "1.10.3"
  }
 },
 "nbformat": 4,
 "nbformat_minor": 5
}
