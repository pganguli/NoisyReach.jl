{
 "cells": [
  {
   "cell_type": "code",
   "execution_count": 4,
   "id": "7a156c97-cb06-4b05-81de-4c57a1173a62",
   "metadata": {},
   "outputs": [
    {
     "name": "stderr",
     "output_type": "stream",
     "text": [
      "\u001b[32m\u001b[1m  Activating\u001b[22m\u001b[39m project at `~/NoisyReach.jl`\n"
     ]
    },
    {
     "name": "stderr",
     "output_type": "stream",
     "text": [
      "┌ Warning: The project dependencies or compat requirements have changed since the manifest was last resolved.\n",
      "│ It is recommended to `Pkg.resolve()` or consider `Pkg.update()` if necessary.\n",
      "└ @ Pkg.API /Users/tingan/.julia/juliaup/julia-1.10.3+0.aarch64.apple.darwin14/share/julia/stdlib/v1.10/Pkg/src/API.jl:1807\n"
     ]
    }
   ],
   "source": [
    "begin\n",
    "\timport Pkg\n",
    "\tPkg.activate(\"..\")\n",
    "\tPkg.instantiate()\n",
    "\t\n",
    "    push!(LOAD_PATH, \"$(@__DIR__)/../src\")\n",
    "    \n",
    "    using NoisyReach\n",
    "    using QuadGK\n",
    "    using ControlSystemsBase\n",
    "    using LinearAlgebra\n",
    "    using ReachabilityAnalysis\n",
    "end"
   ]
  },
  {
   "cell_type": "code",
   "execution_count": 5,
   "id": "e754cf27-eefc-4b21-ac63-5942250272ff",
   "metadata": {},
   "outputs": [
    {
     "data": {
      "text/plain": [
       "0.01"
      ]
     },
     "metadata": {},
     "output_type": "display_data"
    }
   ],
   "source": [
    "const Ts = 0.01 # Sampling period"
   ]
  },
  {
   "cell_type": "code",
   "execution_count": 6,
   "id": "c4f21e2f-40cf-487f-a2b1-93debc853125",
   "metadata": {},
   "outputs": [
    {
     "data": {
      "text/plain": [
       "0.005"
      ]
     },
     "metadata": {},
     "output_type": "display_data"
    }
   ],
   "source": [
    "const Dc = 0.005 # sensor-to-actuator delay"
   ]
  },
  {
   "cell_type": "code",
   "execution_count": 7,
   "id": "a8c2faab",
   "metadata": {},
   "outputs": [
    {
     "data": {
      "text/plain": [
       "matrix_integral (generic function with 1 method)"
      ]
     },
     "metadata": {},
     "output_type": "display_data"
    }
   ],
   "source": [
    "function matrix_integral(A::AbstractMatrix, B::AbstractMatrix, lower_limit::Float64, upper_limit::Float64)\n",
    "    integrand = s -> exp(A * s) * B\n",
    "    result, _ = quadgk(integrand, lower_limit, upper_limit)\n",
    "    return result\n",
    "end"
   ]
  },
  {
   "cell_type": "code",
   "execution_count": 8,
   "id": "c4cd3ac4-06f4-48a2-a11f-c1b2ef9a1a54",
   "metadata": {},
   "outputs": [
    {
     "data": {
      "text/plain": [
       "StateSpace{Continuous, Int64}\n",
       "A = \n",
       "  0   1\n",
       " -1  -1\n",
       "B = \n",
       " 0\n",
       " 1\n",
       "C = \n",
       " 1  0\n",
       "D = \n",
       " 0\n",
       "\n",
       "Continuous-time state-space model"
      ]
     },
     "metadata": {},
     "output_type": "display_data"
    }
   ],
   "source": [
    "# Example from page 33 of lecture 17 (Ts = 0.01, Dc = 0.005)\n",
    "# Expected:\n",
    "# ϕ = [1 0.001; -0.001 0.999]\n",
    "# Γ₁ = [0; 0.0005]\n",
    "# Γ₀ = [0; 0.0005]\n",
    "#\n",
    "# ϕ_aug = [1 0.001 0; -0.001 0.999 0.0005; 0 0 0]\n",
    "# Γ_aug = [0 0.0005 1]\n",
    "# C_aug = [1 0 0]\n",
    "sys = let\n",
    "    A = [0 1; -1 -1]\n",
    "    B = [0; 1]\n",
    "    C = [1 0]\n",
    "    D = 0\n",
    "    ss(A, B, C, D)\n",
    "end"
   ]
  },
  {
   "cell_type": "code",
   "execution_count": 9,
   "id": "46e5ef64-b995-49ac-84f2-3f56a1d359fc",
   "metadata": {},
   "outputs": [
    {
     "data": {
      "text/plain": [
       "StateSpace{Discrete{Float64}, Float64}\n",
       "A = \n",
       "  0.9999501666658346    0.009950000415833335  3.735416747259115e-5\n",
       " -0.009950000415833335  0.9900001662500014    0.00496250038981771\n",
       "  0.0                   0.0                   0.0\n",
       "B = \n",
       " 1.2479166692686635e-5\n",
       " 0.004987500026015625\n",
       " 1.0\n",
       "C = \n",
       " 1.0  0.0  0.0\n",
       "D = \n",
       " 0.0\n",
       "\n",
       "Sample Time: 0.01 (seconds)\n",
       "Discrete-time state-space model"
      ]
     },
     "metadata": {},
     "output_type": "display_data"
    }
   ],
   "source": [
    "sys_aug_ = let\n",
    "    ϕ = ℯ^(Ts * sys.A)\n",
    "    Γ₁ = matrix_integral(sys.A, sys.B, Dc, Ts)\n",
    "    Γ₀ = matrix_integral(sys.A, sys.B, 0.0, Ts - Dc)\n",
    "    ϕ_aug = [ϕ Γ₁; 0 0 0]\n",
    "    Γ_aug = [Γ₀; I]\n",
    "    C_aug = [sys.C 0]\n",
    "    ss(ϕ_aug, Γ_aug, C_aug, sys.D, Ts)\n",
    "end"
   ]
  },
  {
   "cell_type": "code",
   "execution_count": 10,
   "id": "0bd95d15-4514-4e84-ad92-08c218e0248c",
   "metadata": {},
   "outputs": [
    {
     "data": {
      "text/plain": [
       "StateSpace{Discrete{Float64}, Float64}\n",
       "A = \n",
       "  0.9999501666658346    0.009950000415833335   4.4296297035802466e-5\n",
       " -0.009950000415833335  0.9900001662500014     0.008844444814074077\n",
       "  0.0                   0.0                   -0.3333333333333333\n",
       "B = \n",
       " 1.6611111388425926e-5\n",
       " 0.0033166668052777787\n",
       " 1.0\n",
       "C = \n",
       " 1.0  0.0  0.0\n",
       "D = \n",
       " 0.0\n",
       "\n",
       "Sample Time: 0.01 (seconds)\n",
       "Discrete-time state-space model"
      ]
     },
     "metadata": {},
     "output_type": "display_data"
    }
   ],
   "source": [
    "#sys_aug = c2d(sys, Ts) * delay(Dc, Ts)\n",
    "sys_aug = c2d(sys, Ts) * thiran(Dc, Ts)"
   ]
  },
  {
   "cell_type": "code",
   "execution_count": 11,
   "id": "11cc56e4-3e3f-43d6-b6ad-1bce0ab4509a",
   "metadata": {},
   "outputs": [
    {
     "data": {
      "text/plain": [
       "1×3 Matrix{Float64}:\n",
       " 0.239321  0.418528  -0.167879"
      ]
     },
     "metadata": {},
     "output_type": "display_data"
    }
   ],
   "source": [
    "K = lqr(ControlSystemsBase.Discrete, sys_aug.A, sys_aug.B, I, I)"
   ]
  },
  {
   "cell_type": "code",
   "execution_count": 12,
   "id": "1622ef1c",
   "metadata": {},
   "outputs": [
    {
     "data": {
      "text/plain": [
       "2-element Vector{Int64}:\n",
       " 0\n",
       " 0"
      ]
     },
     "metadata": {},
     "output_type": "display_data"
    }
   ],
   "source": [
    "sys = benchmarks[:F1]\n",
    "const period = 0.02\n",
    "const Dc1 = 0.005\n",
    "const Dc2 = 0.015\n",
    "const errors = [0, 0]"
   ]
  },
  {
   "cell_type": "code",
   "execution_count": 13,
   "id": "8178ce40",
   "metadata": {},
   "outputs": [
    {
     "data": {
      "text/plain": [
       "2×3 Matrix{Float64}:\n",
       " 0.723651  1.09385  0.0995609\n",
       " 0.307036  0.48328  0.0441294"
      ]
     },
     "metadata": {},
     "output_type": "display_data"
    }
   ],
   "source": [
    "sys_aug = let\n",
    "    ϕ = ℯ^(period * sys.A)\n",
    "    Γ2 = matrix_integral(sys.A, sys.B, Dc2, period)\n",
    "    Γ1 = matrix_integral(sys.A, sys.B, Dc1, Dc2)\n",
    "    Γ3 = matrix_integral(sys.A, sys.B, 0.0, Dc1)\n",
    "    ϕ_aug = [ϕ Γ3; 0 0 0]\n",
    "    Γ_aug = [Γ1 Γ2; 0 I]\n",
    "    C_aug = [sys.C 0]\n",
    "    D_aug = [sys.D 0]\n",
    "    ss(ϕ_aug, Γ_aug, C_aug, D_aug, Ts)\n",
    "end\n",
    "K = lqr(ControlSystemsBase.Discrete, sys_aug.A, sys_aug.B, I, I)"
   ]
  },
  {
   "cell_type": "code",
   "execution_count": 14,
   "id": "e5c26cd9",
   "metadata": {},
   "outputs": [
    {
     "data": {
      "text/plain": [
       "2×3 Matrix{Float64}:\n",
       " 0.940746  1.36732   0.0995609\n",
       " 0.337739  0.531608  0.0441294"
      ]
     },
     "metadata": {},
     "output_type": "display_data"
    }
   ],
   "source": [
    "λ11 = 0.3\n",
    "λ12 = 0.25\n",
    "λ21 = 0.1\n",
    "λ22 = 0.1\n",
    "K_error = [K[1,:][1]*(1+λ11) K[1,:][2]*(1+λ12) K[1,:][3]; K[2,:][1]*(1+λ21) K[2,:][2]*(1+λ22) K[2,:][3]]"
   ]
  },
  {
   "cell_type": "code",
   "execution_count": 20,
   "id": "e687f6f1",
   "metadata": {},
   "outputs": [
    {
     "data": {
      "text/plain": [
       "11-element Vector{Vector{Float64}}:\n",
       " [1.0, 1.0, 0.0]\n",
       " [1.13, 1.0, 0.0]\n",
       " [1.30132178769642, 1.5683044969288495, 0.9132527840782902]\n",
       " [1.5656335117483775, 2.4684816142869472, 1.3135311127136882]\n",
       " [1.9736036029040591, 3.7647623226614937, 1.89900455232343]\n",
       " [2.5889090412123625, 5.638527105607954, 2.751741265825341]\n",
       " [3.5043427224920793, 8.35341806077923, 3.9932923205910447]\n",
       " [4.855029778325602, 12.292975566242283, 5.800515622818432]\n",
       " [6.8376814762499665, 18.015197553994717, 8.430745823988177]\n",
       " [9.738610399951536, 26.33192409962799, 12.25841197281944]\n",
       " [13.974493418376728, 38.42434272595301, 17.828316702794073]"
      ]
     },
     "metadata": {},
     "output_type": "display_data"
    }
   ],
   "source": [
    "H = 10\n",
    "x0 = 1.\n",
    "u1_0 = 0.\n",
    "u2_0 = 0.\n",
    "z0 = [fill(x0, size(sys.A, 1)); u2_0]\n",
    "u0 = [u1_0; u2_0]\n",
    "z = Vector{typeof(z0)}(undef, H+1) \n",
    "u = Vector{typeof(u0)}(undef, H)\n",
    "z[1] = z0\n",
    "u[1] = u0\n",
    "z[2] = sys_aug.A * z[1] + sys_aug.B * u[1]\n",
    "z[2][end-length(u2_0)+1:end, :] .= 0\n",
    "for k in 2:H\n",
    "    u[k] = K_error * z[k]\n",
    "    z[k+1] = sys_aug.A * z[k] + sys_aug.B * u[k]\n",
    "end"
   ]
  }
 ],
 "metadata": {
  "kernelspec": {
   "display_name": "Julia 1.10.3",
   "language": "julia",
   "name": "julia-1.10"
  },
  "language_info": {
   "file_extension": ".jl",
   "mimetype": "application/julia",
   "name": "julia",
   "version": "1.10.3"
  }
 },
 "nbformat": 4,
 "nbformat_minor": 5
}
