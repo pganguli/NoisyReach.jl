{
 "cells": [
  {
   "cell_type": "code",
   "execution_count": 17,
   "id": "7a156c97-cb06-4b05-81de-4c57a1173a62",
   "metadata": {},
   "outputs": [
    {
     "name": "stderr",
     "output_type": "stream",
     "text": [
      "\u001b[32m\u001b[1m  Activating\u001b[22m\u001b[39m project at `~/Downloads/NoisyReach.jl`\n"
     ]
    }
   ],
   "source": [
    "begin\n",
    "\timport Pkg\n",
    "\tPkg.activate(\"..\")\n",
    "\tPkg.instantiate()\n",
    "\t\n",
    "    push!(LOAD_PATH, \"$(@__DIR__)/../src\")\n",
    "\tusing NoisyReach\n",
    "\n",
    "    using ControlSystemsBase\n",
    "    using LinearAlgebra\n",
    "    using ReachabilityAnalysis\n",
    "end"
   ]
  },
  {
   "cell_type": "code",
   "execution_count": 18,
   "id": "e754cf27-eefc-4b21-ac63-5942250272ff",
   "metadata": {},
   "outputs": [
    {
     "data": {
      "text/plain": [
       "0.01"
      ]
     },
     "execution_count": 18,
     "metadata": {},
     "output_type": "execute_result"
    }
   ],
   "source": [
    "const Ts = 0.01 # Sampling period"
   ]
  },
  {
   "cell_type": "code",
   "execution_count": 19,
   "id": "c4f21e2f-40cf-487f-a2b1-93debc853125",
   "metadata": {},
   "outputs": [
    {
     "data": {
      "text/plain": [
       "0.005"
      ]
     },
     "execution_count": 19,
     "metadata": {},
     "output_type": "execute_result"
    }
   ],
   "source": [
    "const Dc = 0.005 # sensor-to-actuator delay"
   ]
  },
  {
   "cell_type": "code",
   "execution_count": 20,
   "id": "c4cd3ac4-06f4-48a2-a11f-c1b2ef9a1a54",
   "metadata": {},
   "outputs": [
    {
     "data": {
      "text/plain": [
       "StateSpace{Continuous, Int64}\n",
       "A = \n",
       "  0   1\n",
       " -1  -1\n",
       "B = \n",
       " 0\n",
       " 1\n",
       "C = \n",
       " 1  0\n",
       "D = \n",
       " 0\n",
       "\n",
       "Continuous-time state-space model"
      ]
     },
     "execution_count": 20,
     "metadata": {},
     "output_type": "execute_result"
    }
   ],
   "source": [
    "# Example from page 33 of lecture 17 (Ts = 0.01, Dc = 0.005)\n",
    "# Expected:\n",
    "# ϕ = [1 0.001; -0.001 0.999]\n",
    "# Γ₁ = [0; 0.0005]\n",
    "# Γ₀ = [0; 0.0005]\n",
    "#\n",
    "# ϕ_aug = [1 0.001 0; -0.001 0.999 0.0005; 0 0 0]\n",
    "# Γ_aug = [0 0.0005 1]\n",
    "# C_aug = [1 0 0]\n",
    "sys = let\n",
    "    A = [0 1; -1 -1]\n",
    "    B = [0; 1]\n",
    "    C = [1 0]\n",
    "    D = 0\n",
    "    ss(A, B, C, D)\n",
    "end"
   ]
  },
  {
   "cell_type": "code",
   "execution_count": 21,
   "id": "46e5ef64-b995-49ac-84f2-3f56a1d359fc",
   "metadata": {},
   "outputs": [
    {
     "data": {
      "text/plain": [
       "StateSpace{Discrete{Float64}, Float64}\n",
       "A = \n",
       "  0.9999501666658346    0.009950000415833335  0.0\n",
       " -0.009950000415833335  0.9900001662500014    0.005\n",
       "  0.0                   0.0                   0.0\n",
       "B = \n",
       " 0.0\n",
       " 0.005\n",
       " 1.0\n",
       "C = \n",
       " 1.0  0.0  0.0\n",
       "D = \n",
       " 0.0\n",
       "\n",
       "Sample Time: 0.01 (seconds)\n",
       "Discrete-time state-space model"
      ]
     },
     "execution_count": 21,
     "metadata": {},
     "output_type": "execute_result"
    }
   ],
   "source": [
    "sys_aug_ = let\n",
    "    ϕ = ℯ^(Ts * sys.A)\n",
    "    Γ₁ = Dc * sys.B\n",
    "    Γ₀ = (Ts - Dc) * sys.B\n",
    "    ϕ_aug = [ϕ Γ₁; 0 0 0]\n",
    "    Γ_aug = [Γ₀; I]\n",
    "    C_aug = [sys.C 0]\n",
    "    ss(ϕ_aug, Γ_aug, C_aug, sys.D, Ts)\n",
    "end"
   ]
  },
  {
   "cell_type": "code",
   "execution_count": 22,
   "id": "0bd95d15-4514-4e84-ad92-08c218e0248c",
   "metadata": {},
   "outputs": [
    {
     "data": {
      "text/plain": [
       "StateSpace{Discrete{Float64}, Float64}\n",
       "A = \n",
       "  0.9999501666658346    0.009950000415833335   4.429629703580247e-5\n",
       " -0.009950000415833335  0.9900001662500014     0.008844444814074077\n",
       "  0.0                   0.0                   -0.3333333333333333\n",
       "B = \n",
       " 1.661111138842593e-5\n",
       " 0.0033166668052777787\n",
       " 1.0\n",
       "C = \n",
       " 1.0  0.0  0.0\n",
       "D = \n",
       " 0.0\n",
       "\n",
       "Sample Time: 0.01 (seconds)\n",
       "Discrete-time state-space model"
      ]
     },
     "execution_count": 22,
     "metadata": {},
     "output_type": "execute_result"
    }
   ],
   "source": [
    "#sys_aug = c2d(sys, Ts) * delay(Dc, Ts)\n",
    "sys_aug = c2d(sys, Ts) * thiran(Dc, Ts)"
   ]
  },
  {
   "cell_type": "code",
   "execution_count": 23,
   "id": "11cc56e4-3e3f-43d6-b6ad-1bce0ab4509a",
   "metadata": {},
   "outputs": [
    {
     "data": {
      "text/plain": [
       "1×3 Matrix{Float64}:\n",
       " 0.239321  0.418528  -0.167879"
      ]
     },
     "execution_count": 23,
     "metadata": {},
     "output_type": "execute_result"
    }
   ],
   "source": [
    "K = lqr(ControlSystemsBase.Discrete, sys_aug.A, sys_aug.B, I, I)"
   ]
  }
 ],
 "metadata": {
  "kernelspec": {
   "display_name": "Julia 1.11.0-beta1",
   "language": "julia",
   "name": "julia-1.11"
  },
  "language_info": {
   "file_extension": ".jl",
   "mimetype": "application/julia",
   "name": "julia",
   "version": "1.11.0"
  }
 },
 "nbformat": 4,
 "nbformat_minor": 5
}
