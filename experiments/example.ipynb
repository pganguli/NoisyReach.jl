{
 "cells": [
  {
   "cell_type": "code",
   "execution_count": 3,
   "id": "7a156c97-cb06-4b05-81de-4c57a1173a62",
   "metadata": {},
   "outputs": [
    {
     "name": "stderr",
     "output_type": "stream",
     "text": [
      "\u001b[32m\u001b[1m  Activating\u001b[22m\u001b[39m project at `~/NoisyReach.jl`\n"
     ]
    }
   ],
   "source": [
    "begin\n",
    "\timport Pkg\n",
    "\tPkg.activate(\"..\")\n",
    "\tPkg.instantiate()\n",
    "\t\n",
    "    using LinearAlgebra\n",
    "\t\n",
    "    push!(LOAD_PATH, \"$(@__DIR__)/../src\")\n",
    "\tusing NoisyReach\n",
    "end"
   ]
  },
  {
   "cell_type": "code",
   "execution_count": null,
   "id": "4f4752c7-e9cb-4bf8-a7d9-4416675b9496",
   "metadata": {},
   "outputs": [],
   "source": []
  }
 ],
 "metadata": {
  "kernelspec": {
   "display_name": "Julia 1.11.0-beta1",
   "language": "julia",
   "name": "julia-1.11"
  },
  "language_info": {
   "file_extension": ".jl",
   "mimetype": "application/julia",
   "name": "julia",
   "version": "1.11.0"
  }
 },
 "nbformat": 4,
 "nbformat_minor": 5
}
